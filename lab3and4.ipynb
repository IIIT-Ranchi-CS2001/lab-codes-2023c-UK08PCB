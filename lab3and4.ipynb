{
 "cells": [
  {
   "cell_type": "code",
   "execution_count": null,
   "metadata": {},
   "outputs": [],
   "source": [
    "n=int(input(\"enter number:\"))\n",
    "x=0\n",
    "y=1\n",
    "print(x)\n",
    "print(y)\n",
    "i=0\n",
    "while(i<n-2):\n",
    "    temp=y\n",
    "    y=y+x\n",
    "    x=temp\n",
    "    print(y)\n",
    "    i+=1"
   ]
  },
  {
   "cell_type": "code",
   "execution_count": null,
   "metadata": {},
   "outputs": [],
   "source": [
    "s=input(\"enter a string:\")\n",
    "flag=1\n",
    "for i in s:\n",
    "    if i.isalnum:\n",
    "        flag=1\n",
    "    else:\n",
    "        flag=0\n",
    "print(bool(flag))"
   ]
  },
  {
   "cell_type": "code",
   "execution_count": null,
   "metadata": {},
   "outputs": [],
   "source": [
    "s=input(\"enter a string:\")\n",
    "c=input(\"enter the char:\")\n",
    "count=0\n",
    "for i in s:\n",
    "    if i==c:\n",
    "        count+=1\n",
    "print(count)"
   ]
  },
  {
   "cell_type": "code",
   "execution_count": null,
   "metadata": {},
   "outputs": [],
   "source": [
    "li=[]\n",
    "while True:\n",
    "    x=int(input(\"enter a number:\"))\n",
    "    li.append(x)\n",
    "    cntrl = input(\"if you want to stop adding enter 0: \")\n",
    "    if(cntrl=='0'):\n",
    "        break\n",
    "frequency = {}\n",
    "\n",
    "for num in li:\n",
    "    if num in frequency:\n",
    "        frequency[num] += 1\n",
    "    else:\n",
    "        frequency[num] = 1\n",
    "mode_value = None\n",
    "max_count = 0\n",
    "\n",
    "for key, count in frequency.items():\n",
    "    if count > max_count:\n",
    "        max_count = count\n",
    "        mode_value = key\n",
    "li.sort()\n",
    "med=li[len(li)//2]\n",
    "avg=sum(li)/len(li)\n",
    "print(\"entered list is:\",li)\n",
    "print(\"median is:\",med)\n",
    "print(\"mean is:\",avg)\n",
    "print(\"mode is:\",mode_value)"
   ]
  },
  {
   "cell_type": "code",
   "execution_count": null,
   "metadata": {},
   "outputs": [],
   "source": [
    "n=int(input(\"enter n:\"))\n",
    "i=1\n",
    "while(i<=n):\n",
    "    print(i,\" \",i*i)\n",
    "    i+=1"
   ]
  },
  {
   "cell_type": "code",
   "execution_count": null,
   "metadata": {},
   "outputs": [],
   "source": [
    "n=int(input(\"enter the number:\"))\n",
    "print(\"entered number is:\",n)\n",
    "sum=0\n",
    "while(n>0):\n",
    "    i=n%10\n",
    "    sum+=i\n",
    "    n=n//10\n",
    "print(\"sum of the digits is:\",sum)"
   ]
  },
  {
   "cell_type": "code",
   "execution_count": null,
   "metadata": {},
   "outputs": [],
   "source": [
    "sigers={\"umang\",\"ankush\",\"kartik\",\"abhishek\",\"agnish\",\"aditya\"}\n",
    "dances={\"chirag\",\"rudra\",\"sandeep\",\"ankush\",\"chaitanya\"}\n",
    "print(\"all the artists are:\",sigers^dances)\n",
    "print(\"both singers and artists:\",sigers.intersection(dances))\n",
    "print(\"dancers but not singers:\",dances-sigers)\n",
    "print(\"singers but not dancers\",sigers-dances)\n",
    "print(\"singers but not dancers and dancers but not singers:\",(dances^sigers)-dances.intersection(sigers))"
   ]
  },
  {
   "cell_type": "code",
   "execution_count": null,
   "metadata": {},
   "outputs": [],
   "source": [
    "n=int(input(\"enter the number whose multiplication table to be printed:\"))\n",
    "x=int(input(\"enter the limit\"))\n",
    "for i in range(1,x+1):\n",
    "    print(n,\"*\",i,\"=\",n*i)"
   ]
  },
  {
   "cell_type": "code",
   "execution_count": null,
   "metadata": {},
   "outputs": [],
   "source": [
    "s=input(\"enter a sentance:\")\n",
    "li=s.split()\n",
    "l2=[]\n",
    "c=0\n",
    "for i in li:\n",
    "    if i==i[::-1]:\n",
    "        l2.append(i)\n",
    "        c+=1\n",
    "print(\"the number of palindrome number is:\",c)\n",
    "print(\"the palindrone elements are:\",l2)"
   ]
  },
  {
   "cell_type": "code",
   "execution_count": null,
   "metadata": {},
   "outputs": [],
   "source": [
    "li=[\"CS2001\",\"CS2003\",\"CS2101\",\"CS2103\",\"EC2001\",\"EC2003\",\"EC2101\",\"HS2001\",\"MA2001\"]\n",
    "sub=[\"Python\",\"COA\",\"Python(lab)\",\"COA(lab)\",\"analog\",\"analysis\",\"analog(lab)\",\"OB\",\"maths\"]\n",
    "l2=[]\n",
    "for i in range(0,len(li)):\n",
    "    l2.append(li[i]+\":\"+sub[i])\n",
    "print(l2)"
   ]
  }
 ],
 "metadata": {
  "kernelspec": {
   "display_name": "Python 3",
   "language": "python",
   "name": "python3"
  },
  "language_info": {
   "codemirror_mode": {
    "name": "ipython",
    "version": 3
   },
   "file_extension": ".py",
   "mimetype": "text/x-python",
   "name": "python",
   "nbconvert_exporter": "python",
   "pygments_lexer": "ipython3",
   "version": "3.12.0"
  }
 },
 "nbformat": 4,
 "nbformat_minor": 2
}
